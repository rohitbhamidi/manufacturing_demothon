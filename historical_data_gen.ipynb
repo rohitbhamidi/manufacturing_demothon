{
 "cells": [
  {
   "cell_type": "code",
   "execution_count": 2,
   "metadata": {},
   "outputs": [],
   "source": [
    "import pandas as pd\n",
    "import numpy as np\n",
    "from datetime import datetime, timedelta\n",
    "import random\n",
    "import os"
   ]
  },
  {
   "cell_type": "code",
   "execution_count": 3,
   "metadata": {},
   "outputs": [],
   "source": [
    "def generate_synthetic_data(start_date, end_date):\n",
    "    current_date = start_date\n",
    "    order_id = 1\n",
    "    data = []\n",
    "\n",
    "    while current_date <= end_date:\n",
    "        orders_today = random.randint(900, 1100)\n",
    "        for _ in range(orders_today):\n",
    "            product_id = random.choice([0, 1])\n",
    "            quantity = random.randint(1, 10)\n",
    "            status = 1 if random.random() < 0.99 else 0\n",
    "            duration = quantity + random.uniform(1, 2)\n",
    "            yield_rate = random.uniform(0, 1)\n",
    "            qa_comments = (f\"Order {order_id} had yield {yield_rate:.2f}. \"\n",
    "                           f\"{'Successful batch.' if yield_rate > 0.5 else 'Failed batch.'}\")\n",
    "            \n",
    "            data.append({\n",
    "                'order_id': order_id,\n",
    "                'date': current_date,\n",
    "                'product_id': product_id,\n",
    "                'quantity': quantity,\n",
    "                'status': status,\n",
    "                'duration': duration,\n",
    "                'yield': yield_rate,\n",
    "                'qa_comments': qa_comments\n",
    "            })\n",
    "            \n",
    "            order_id += 1\n",
    "        \n",
    "        current_date += timedelta(days=1)\n",
    "    \n",
    "    return pd.DataFrame(data)"
   ]
  },
  {
   "cell_type": "code",
   "execution_count": 4,
   "metadata": {},
   "outputs": [],
   "source": [
    "def save_to_local(df, folder_path, year):\n",
    "    if not os.path.exists(folder_path):\n",
    "        os.makedirs(folder_path)\n",
    "    file_path = os.path.join(folder_path, f\"{year}.csv\")\n",
    "    df.to_csv(file_path, index=False)\n",
    "    print(f\"Saved data for year {year} to {file_path}\")\n"
   ]
  },
  {
   "cell_type": "code",
   "execution_count": 6,
   "metadata": {},
   "outputs": [
    {
     "name": "stdout",
     "output_type": "stream",
     "text": [
      "Saved data for year 2000 to local_data_folder/2000.csv\n",
      "Saved data for year 2001 to local_data_folder/2001.csv\n",
      "Saved data for year 2002 to local_data_folder/2002.csv\n",
      "Saved data for year 2003 to local_data_folder/2003.csv\n",
      "Saved data for year 2004 to local_data_folder/2004.csv\n",
      "Saved data for year 2005 to local_data_folder/2005.csv\n",
      "Saved data for year 2006 to local_data_folder/2006.csv\n",
      "Saved data for year 2007 to local_data_folder/2007.csv\n",
      "Saved data for year 2008 to local_data_folder/2008.csv\n",
      "Saved data for year 2009 to local_data_folder/2009.csv\n",
      "Saved data for year 2010 to local_data_folder/2010.csv\n",
      "Saved data for year 2011 to local_data_folder/2011.csv\n",
      "Saved data for year 2012 to local_data_folder/2012.csv\n",
      "Saved data for year 2013 to local_data_folder/2013.csv\n",
      "Saved data for year 2014 to local_data_folder/2014.csv\n",
      "Saved data for year 2015 to local_data_folder/2015.csv\n",
      "Saved data for year 2016 to local_data_folder/2016.csv\n",
      "Saved data for year 2017 to local_data_folder/2017.csv\n",
      "Saved data for year 2018 to local_data_folder/2018.csv\n",
      "Saved data for year 2019 to local_data_folder/2019.csv\n",
      "Saved data for year 2020 to local_data_folder/2020.csv\n",
      "Saved data for year 2021 to local_data_folder/2021.csv\n",
      "Saved data for year 2022 to local_data_folder/2022.csv\n",
      "Saved data for year 2023 to local_data_folder/2023.csv\n",
      "Saved data for year 2024 to local_data_folder/2024.csv\n"
     ]
    }
   ],
   "source": [
    "# Define the date range\n",
    "start_date = datetime(2000, 1, 1)\n",
    "end_date = datetime.now()\n",
    "\n",
    "# Generate and save data year by year\n",
    "current_year = start_date.year\n",
    "while current_year <= end_date.year:\n",
    "    year_start_date = datetime(current_year, 1, 1) if current_year != 2010 else start_date\n",
    "    year_end_date = datetime(current_year, 12, 31) if current_year != end_date.year else end_date\n",
    "    \n",
    "    df = generate_synthetic_data(year_start_date, year_end_date)\n",
    "    save_to_local(df, 'local_data_folder', current_year)\n",
    "    \n",
    "    current_year += 1"
   ]
  }
 ],
 "metadata": {
  "kernelspec": {
   "display_name": ".venv",
   "language": "python",
   "name": "python3"
  },
  "language_info": {
   "codemirror_mode": {
    "name": "ipython",
    "version": 3
   },
   "file_extension": ".py",
   "mimetype": "text/x-python",
   "name": "python",
   "nbconvert_exporter": "python",
   "pygments_lexer": "ipython3",
   "version": "3.12.3"
  }
 },
 "nbformat": 4,
 "nbformat_minor": 2
}
